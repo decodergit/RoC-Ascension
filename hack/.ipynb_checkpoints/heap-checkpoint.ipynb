{
 "cells": [
  {
   "cell_type": "code",
   "execution_count": 11,
   "id": "0228f18f-4c95-49d0-9003-5bca925490a7",
   "metadata": {},
   "outputs": [],
   "source": [
    "import pickle\n",
    "import os"
   ]
  },
  {
   "cell_type": "code",
   "execution_count": 55,
   "id": "9a89e416-216e-4cb2-83a5-f846e17e0503",
   "metadata": {},
   "outputs": [
    {
     "name": "stdout",
     "output_type": "stream",
     "text": [
      "[anon:.bss]\n",
      "[61, 19664896]\n",
      "--------------------------------------------------------------------------------\n",
      "[anon:libc_malloc]\n",
      "[32, 270532608]\n",
      "--------------------------------------------------------------------------------\n",
      "[anon:thread\n",
      "[325, 2670592]\n",
      "--------------------------------------------------------------------------------\n",
      "[anon:bionic\n",
      "[324, 2232320]\n",
      "--------------------------------------------------------------------------------\n",
      "[anon:linker_alloc_vector]\n",
      "[6, 28672]\n",
      "--------------------------------------------------------------------------------\n",
      "[anon:linker_alloc]\n",
      "[69, 323584]\n",
      "--------------------------------------------------------------------------------\n",
      "[anon:atexit\n",
      "[12, 53248]\n",
      "--------------------------------------------------------------------------------\n",
      "[anon:linker_alloc_small_objects]\n",
      "[14, 65536]\n",
      "--------------------------------------------------------------------------------\n",
      "[anon:cfi\n",
      "[12, 2147483648]\n",
      "--------------------------------------------------------------------------------\n",
      "[anon:linker_alloc_lob]\n",
      "[1, 4096]\n",
      "--------------------------------------------------------------------------------\n",
      "[anon:System\n",
      "[2, 16384]\n",
      "--------------------------------------------------------------------------------\n",
      "[anon:arc4random\n",
      "[2, 8192]\n",
      "--------------------------------------------------------------------------------\n",
      "[vvar]\n",
      "[1, 4096]\n",
      "--------------------------------------------------------------------------------\n",
      "[vdso]\n",
      "[1, 4096]\n",
      "--------------------------------------------------------------------------------\n",
      "[stack]\n",
      "[1, 8384512]\n",
      "--------------------------------------------------------------------------------\n"
     ]
    }
   ],
   "source": [
    "dump = pickle.load(open('mem_obj.dump', 'rb'))\n",
    "len(dump)\n",
    "for obj, count_size in zip(dump.keys(), dump.values()):\n",
    "    if '[' in obj:\n",
    "        print(obj)\n",
    "        print(count_size)\n",
    "        print('-' * 80)"
   ]
  },
  {
   "cell_type": "code",
   "execution_count": 3,
   "id": "10be1454-dcab-426d-9f88-7fdb13eeca06",
   "metadata": {
    "tags": []
   },
   "outputs": [
    {
     "name": "stdout",
     "output_type": "stream",
     "text": [
      "/dev/ashmem/shared_memory/D5A74A121842A47E7EAF68382AD3794C\n",
      "[1, 131072]\n",
      "--------------------------------------------------------------------------------\n",
      "/dev/ashmem/shared_memory/1D53F3F180B6B1A832373957D4805C13\n",
      "[1, 28672]\n",
      "--------------------------------------------------------------------------------\n",
      "anon_inode:dmabuf\n",
      "[3, 12288]\n",
      "--------------------------------------------------------------------------------\n",
      "[anon:linker_alloc_vector]\n",
      "[6, 28672]\n",
      "--------------------------------------------------------------------------------\n",
      "[anon:linker_alloc]\n",
      "[69, 323584]\n",
      "--------------------------------------------------------------------------------\n",
      "[anon:atexit\n",
      "[12, 53248]\n",
      "--------------------------------------------------------------------------------\n",
      "[anon:linker_alloc_small_objects]\n",
      "[14, 65536]\n",
      "--------------------------------------------------------------------------------\n",
      "/data/data/com.innogames.riseofcultures/no_backup/androidx.work.workdb-shm\n",
      "[1, 32768]\n",
      "--------------------------------------------------------------------------------\n",
      "/dev/ashmem/b390658b-3797-4724-bafe-266be4332e9d\n",
      "[3, 12288]\n",
      "--------------------------------------------------------------------------------\n",
      "/data/app/com.innogames.riseofcultures-S5yUxilJiwneicaZS2e40w==/oat/arm64/base.art\n",
      "[1, 12288]\n",
      "--------------------------------------------------------------------------------\n",
      "/dev/misysinfofreader\n",
      "[1, 4096]\n",
      "--------------------------------------------------------------------------------\n",
      "[anon:linker_alloc_lob]\n",
      "[1, 4096]\n",
      "--------------------------------------------------------------------------------\n",
      "/dev/event-log-tags\n",
      "[1, 4096]\n",
      "--------------------------------------------------------------------------------\n",
      "[anon:arc4random\n",
      "[2, 8192]\n",
      "--------------------------------------------------------------------------------\n",
      "[vvar]\n",
      "[1, 4096]\n",
      "--------------------------------------------------------------------------------\n",
      "[vdso]\n",
      "[1, 4096]\n",
      "--------------------------------------------------------------------------------\n",
      "[stack]\n",
      "[1, 8384512]\n",
      "--------------------------------------------------------------------------------\n",
      "9113600\n"
     ]
    }
   ],
   "source": [
    "sum_size = 0\n",
    "for obj, count_size in zip(dump.keys(), dump.values()):\n",
    "    if obj == '':\n",
    "        continue\n",
    "    wrong_words = {'dalvik', 'boot', 'font', 'Chrome', 'kgsl', 'system', 'lib', 'Audio', 'System', '.dat', '/dev/__properties__', 'dex', 'apk', 'web', 'config', 'cfi', 'binder', '.bss', 'thread', 'bionic'}\n",
    "    good = True\n",
    "    for word in wrong_words:\n",
    "        if word in obj:\n",
    "            good = False\n",
    "            break\n",
    "    if good:\n",
    "        print(obj)\n",
    "        print(count_size)\n",
    "        print('-' * 80)\n",
    "        sum_size += count_size[1]\n",
    "print(sum_size)"
   ]
  },
  {
   "cell_type": "code",
   "execution_count": 6,
   "id": "da2a7e3b-eecb-499d-8503-14738e42185f",
   "metadata": {},
   "outputs": [],
   "source": [
    "dumps = list()\n",
    "for i in range(11):\n",
    "    dump = pickle.load(open(f'{i:03d}.dump', 'rb'))\n",
    "    for key in dump:\n",
    "        if '[stack]' in key[2]:\n",
    "            dumps.append(dump)\n",
    "            break"
   ]
  },
  {
   "cell_type": "code",
   "execution_count": 7,
   "id": "302e2c70-0354-4471-a03b-b4d59818a869",
   "metadata": {},
   "outputs": [
    {
     "name": "stdout",
     "output_type": "stream",
     "text": [
      "114 записей сохраняется по всем дампам\n"
     ]
    }
   ],
   "source": [
    "exists_in_all_dumps = list()\n",
    "dump_0 = dumps[0]\n",
    "for key in dump_0.keys():\n",
    "    in_all = True\n",
    "    for dump in dumps[1:]:\n",
    "        if key not in dump:\n",
    "            in_all = False\n",
    "            break\n",
    "    if in_all:\n",
    "        exists_in_all_dumps.append(key)\n",
    "print(f'{len(exists_in_all_dumps)} записей сохраняется по всем дампам')"
   ]
  },
  {
   "cell_type": "code",
   "execution_count": 8,
   "id": "cfe4ce64-deff-4393-8ba3-b3d0efc9fe29",
   "metadata": {},
   "outputs": [
    {
     "name": "stdout",
     "output_type": "stream",
     "text": [
      "109 записей не меняют содержания по всем дампам\n"
     ]
    }
   ],
   "source": [
    "const_in_all_dumps = list()\n",
    "for key in exists_in_all_dumps:\n",
    "    in_all = True\n",
    "    for dump in dumps[1:]:\n",
    "        if dump_0[key] != dump[key]:\n",
    "            in_all = False\n",
    "            break\n",
    "    if in_all:\n",
    "        const_in_all_dumps.append(key)\n",
    "print(f'{len(const_in_all_dumps)} записей не меняют содержания по всем дампам')"
   ]
  },
  {
   "cell_type": "code",
   "execution_count": 9,
   "id": "b57aac52-8197-4d2a-ba89-edf5989a75d6",
   "metadata": {},
   "outputs": [
    {
     "name": "stdout",
     "output_type": "stream",
     "text": [
      "Следующие записи меняются от переговоров к переговорам:\n",
      "('0x7dcf1ea000', 4096, '/dev/ashmem/b390658b-3797-4724-bafe-266be4332e9d')\n",
      "('0x7e502e3000', 4096, '/dev/ashmem/b390658b-3797-4724-bafe-266be4332e9d')\n",
      "('0x7e5042c000', 4096, '/dev/ashmem/b390658b-3797-4724-bafe-266be4332e9d')\n",
      "('0x7e554d5000', 4096, '[vvar]')\n",
      "('0x7fce384000', 8384512, '[stack]')\n"
     ]
    }
   ],
   "source": [
    "diff_mem = list()\n",
    "for key in exists_in_all_dumps:\n",
    "    if key not in const_in_all_dumps:\n",
    "        diff_mem.append(key)\n",
    "print('Следующие записи меняются от переговоров к переговорам:')\n",
    "for key in diff_mem:\n",
    "    print(key)"
   ]
  },
  {
   "cell_type": "code",
   "execution_count": 10,
   "id": "36db05d0-9ac1-4eb0-98b4-1450e09c789d",
   "metadata": {},
   "outputs": [
    {
     "data": {
      "text/plain": [
       "'\\nРезонно, ведь /dev/ashmem это куча, а стэк не может не меняться.\\nХотя на куче меняются очень маленькие аллокации.\\nСодержимое vvar принадлежит ядру и не может меняться пользовательским кодом.\\nСтоит сначала исследовать стек.\\n'"
      ]
     },
     "execution_count": 10,
     "metadata": {},
     "output_type": "execute_result"
    }
   ],
   "source": [
    "'''\n",
    "Резонно, ведь /dev/ashmem это куча, а стэк не может не меняться.\n",
    "Хотя на куче меняются очень маленькие аллокации.\n",
    "Содержимое vvar принадлежит ядру и не может меняться пользовательским кодом.\n",
    "Стоит сначала исследовать стек.\n",
    "'''"
   ]
  },
  {
   "cell_type": "code",
   "execution_count": 13,
   "id": "fd633618-e97f-4d33-8264-423cb7173db8",
   "metadata": {},
   "outputs": [],
   "source": [
    "stacks = list()\n",
    "try:\n",
    "    os.mkdir('./stack/')\n",
    "except:\n",
    "    pass\n",
    "for i, dump in zip(range(len(dumps)), dumps):\n",
    "    for key in dump.keys():\n",
    "        if '[stack]' in key[2]:\n",
    "            stacks.append(dump[key])\n",
    "            open(f'./stack/{i:03d}.dump', 'wb').write(dump[key])\n",
    "            break"
   ]
  },
  {
   "cell_type": "code",
   "execution_count": 31,
   "id": "66999ff6-604c-4daa-8622-dfe64d5274ac",
   "metadata": {},
   "outputs": [],
   "source": [
    "from difflib import SequenceMatcher as sm\n",
    "\n",
    "def bytes_to_str(data):\n",
    "    return ' '.join(['%.2X' % (x,) for x in data])"
   ]
  },
  {
   "cell_type": "code",
   "execution_count": 34,
   "id": "506a5733-7de5-44bc-9eca-4061e08c22be",
   "metadata": {},
   "outputs": [],
   "source": [
    "offset_7MB = 7340032\n",
    "diff = sm(None, stacks[0][offset_7MB:], stacks[2][offset_7MB:])"
   ]
  },
  {
   "cell_type": "code",
   "execution_count": 37,
   "id": "12f2d135-c36d-4600-8aba-e8fa80dd235f",
   "metadata": {},
   "outputs": [
    {
     "name": "stdout",
     "output_type": "stream",
     "text": [
      "1033476 -> {1, 2}\n",
      "1018896 -> {1, 2, 3}\n",
      "1021712 -> {2, 3}\n",
      "1033744 -> {11, 3, 7}\n",
      "1033496 -> {1, 6, 7}\n",
      "1021080 -> {5}\n",
      "1019936 -> {2}\n",
      "1033376 -> {1, 2}\n",
      "1021352 -> {2, 3}\n",
      "1033772 -> {2, 3}\n",
      "1016496 -> {2}\n",
      "1019056 -> {1, 2, 3}\n",
      "1020592 -> {4}\n",
      "1019696 -> {1, 2, 3}\n",
      "1020720 -> {2, 3}\n",
      "1021232 -> {2, 3}\n",
      "1019700 -> {1, 2, 3}\n",
      "1033524 -> {3}\n",
      "1021120 -> {2, 3}\n",
      "1014465 -> {11}\n",
      "1019712 -> {3}\n",
      "1020224 -> {1}\n",
      "1019208 -> {1, 2, 3}\n",
      "1019848 -> {1, 2, 3}\n",
      "1020369 -> {4}\n",
      "1014488 -> {117}\n",
      "1014616 -> {16}\n",
      "1021784 -> {1, 2, 3}\n",
      "1018840 -> {1, 2, 3}\n",
      "1021912 -> {2, 3}\n",
      "1021916 -> {1, 2, 3}\n",
      "1020389 -> {43}\n",
      "1016424 -> {3}\n",
      "1020520 -> {4, 11, 18, 19, 23, 24, 63}\n",
      "1018600 -> {2, 3}\n",
      "1033192 -> {1, 2}\n",
      "1020652 -> {1}\n",
      "1022189 -> {6136, 10832, 5958, 5959}\n",
      "1014640 -> {1}\n",
      "1014642 -> {800, 801, 742, 1622, 862}\n",
      "1018744 -> {2, 3}\n"
     ]
    }
   ],
   "source": [
    "status = set()\n",
    "begin = 0\n",
    "end = 0\n",
    "begins = None\n",
    "lengths = dict()\n",
    "offset_7MB = 7340032\n",
    "for stack in stacks[1:]:\n",
    "    diff = sm(None, stacks[0][offset_7MB:], stack[offset_7MB:])\n",
    "    new_begins = set()\n",
    "    for opcode in diff.get_opcodes():\n",
    "        #print(\"%7s a[%d:%d] b[%d:%d]\" % opcode)\n",
    "        if opcode[0] == 'equal' and opcode[1] == opcode[3] and opcode[2] == opcode[4]:\n",
    "            end = opcode[1]\n",
    "            #if begin != 0:\n",
    "            #    print(f'{begin:8d}{end:8d} -> {end - begin:8d}')\n",
    "            new_begins.add(begin)\n",
    "            length = end - begin\n",
    "            if begin in lengths:\n",
    "                lengths[begin].add(length)\n",
    "            else:\n",
    "                lengths[begin] = {length}\n",
    "            begin = opcode[2]\n",
    "    if not begins:\n",
    "        begins = new_begins\n",
    "    else:\n",
    "        begins = begins.intersection(new_begins)\n",
    "for begin in begins:\n",
    "    print(f'{begin} -> {lengths[begin]}')"
   ]
  },
  {
   "cell_type": "code",
   "execution_count": 39,
   "id": "701eabe2-07b5-4b68-9a5a-81ac3c80ee42",
   "metadata": {},
   "outputs": [
    {
     "name": "stdout",
     "output_type": "stream",
     "text": [
      "00 4C 61 CF 7D\n",
      "58 F0 B7 CE 7F\n",
      "58 F0 B7 CE 7F\n",
      "58 F0 B7 CE 7F\n",
      "58 F0 B7 CE 7F\n",
      "58 F0 B7 CE 7F\n",
      "58 F0 B7 CE 7F\n",
      "58 F0 B7 CE 7F\n",
      "58 F0 B7 CE 7F\n",
      "58 F0 B7 CE 7F\n"
     ]
    }
   ],
   "source": [
    "for stack in stacks:\n",
    "    print(bytes_to_str(stack[offset_7MB + 1021080: offset_7MB + 1021080 + 5]))"
   ]
  },
  {
   "cell_type": "code",
   "execution_count": 51,
   "id": "6da3781c-76ff-42cd-8b73-a40744c91164",
   "metadata": {},
   "outputs": [
    {
     "name": "stdout",
     "output_type": "stream",
     "text": [
      "size = 1\n",
      "size = 2\n",
      "size = 4\n",
      "size = 8\n",
      "size = 16\n",
      "size = 32\n",
      "size = 64\n"
     ]
    }
   ],
   "source": [
    "poses = dict()\n",
    "for size in [1, 2, 4, 8, 16, 32, 64]:\n",
    "    print(f'size = {size}')\n",
    "    poses[size] = dict()\n",
    "    for pos in range(len(stacks[0]) - offset_7MB - 5*size):\n",
    "        peaces = set()\n",
    "        values = set()\n",
    "        for stack in stacks:\n",
    "            peaces.add(stack[pos: pos + 5*size])\n",
    "            for i in range(5):\n",
    "                values.add(stack[pos + i*size: pos + (i + 1)*size])\n",
    "        if 2 <= len(peaces) <= len(stacks) and len(values) <= 4: # В этих переговорах было по 4 товара. Считаем вероятность полного совпадения двух переговоров исчезающе малой.\n",
    "            poses[size][pos] = peaces\n",
    "            print(pos)\n",
    "            for peace in peaces:\n",
    "                print('    ' + bytes_to_str(peace))"
   ]
  },
  {
   "cell_type": "code",
   "execution_count": 44,
   "id": "6431a12b-bdcb-456d-8735-d09c117e2e60",
   "metadata": {},
   "outputs": [
    {
     "data": {
      "text/plain": [
       "'Видимо не на стеке'"
      ]
     },
     "execution_count": 44,
     "metadata": {},
     "output_type": "execute_result"
    }
   ],
   "source": [
    "'Видимо не на стеке'"
   ]
  },
  {
   "cell_type": "code",
   "execution_count": 50,
   "id": "68bd6b21-c25b-4920-a322-d0dd8d0bc3df",
   "metadata": {},
   "outputs": [
    {
     "name": "stdout",
     "output_type": "stream",
     "text": [
      "('0x7dcf1ea000', 4096, '/dev/ashmem/b390658b-3797-4724-bafe-266be4332e9d')\n",
      "size = 1\n",
      "size = 2\n",
      "size = 4\n",
      "size = 8\n",
      "size = 16\n",
      "size = 32\n",
      "size = 64\n",
      "('0x7e502e3000', 4096, '/dev/ashmem/b390658b-3797-4724-bafe-266be4332e9d')\n",
      "size = 1\n",
      "size = 2\n",
      "size = 4\n",
      "size = 8\n",
      "size = 16\n",
      "size = 32\n",
      "size = 64\n",
      "('0x7e5042c000', 4096, '/dev/ashmem/b390658b-3797-4724-bafe-266be4332e9d')\n",
      "size = 1\n",
      "size = 2\n",
      "size = 4\n",
      "size = 8\n",
      "size = 16\n",
      "size = 32\n",
      "size = 64\n",
      "('0x7e554d5000', 4096, '[vvar]')\n",
      "size = 1\n",
      "size = 2\n",
      "size = 4\n",
      "size = 8\n",
      "size = 16\n",
      "size = 32\n",
      "size = 64\n"
     ]
    }
   ],
   "source": [
    "keys = [\n",
    "('0x7dcf1ea000', 4096, '/dev/ashmem/b390658b-3797-4724-bafe-266be4332e9d'),\n",
    "('0x7e502e3000', 4096, '/dev/ashmem/b390658b-3797-4724-bafe-266be4332e9d'),\n",
    "('0x7e5042c000', 4096, '/dev/ashmem/b390658b-3797-4724-bafe-266be4332e9d'),\n",
    "('0x7e554d5000', 4096, '[vvar]')]\n",
    "poses = dict()\n",
    "for key in keys:\n",
    "    poses[key] = dict()\n",
    "    print(key)\n",
    "    blocks = list()\n",
    "    for dump in dumps:\n",
    "        blocks.append(dump[key])\n",
    "    for size in [1, 2, 4, 8, 16, 32, 64]:\n",
    "        print(f'size = {size}')\n",
    "        poses[key][size] = dict()\n",
    "        for pos in range(len(blocks[0]) - 5*size):\n",
    "            peaces = set()\n",
    "            values = set()\n",
    "            for block in blocks:\n",
    "                peaces.add(block[pos: pos + 5*size])\n",
    "                for i in range(5):\n",
    "                    values.add(block[pos + i*size: pos + (i + 1)*size])\n",
    "            if 2 <= len(peaces) <= len(blocks) and len(values) <= 4: # В этих переговорах было по 4 товара. Считаем вероятность полного совпадения двух переговоров исчезающе малой.\n",
    "                poses[key][size][pos] = peaces\n",
    "                print(pos)\n",
    "                for peace in peaces:\n",
    "                    print('    ' + bytes_to_str(peace))"
   ]
  },
  {
   "cell_type": "code",
   "execution_count": null,
   "id": "2b782c86-0584-414e-baee-8efa63c0ff58",
   "metadata": {},
   "outputs": [],
   "source": [
    "'''\n",
    "Нужно проверить.\n",
    "[anon:libc_malloc]\n",
    "[32, 270532608]\n",
    "'''"
   ]
  }
 ],
 "metadata": {
  "kernelspec": {
   "display_name": "Python 3 (ipykernel)",
   "language": "python",
   "name": "python3"
  },
  "language_info": {
   "codemirror_mode": {
    "name": "ipython",
    "version": 3
   },
   "file_extension": ".py",
   "mimetype": "text/x-python",
   "name": "python",
   "nbconvert_exporter": "python",
   "pygments_lexer": "ipython3",
   "version": "3.10.4"
  }
 },
 "nbformat": 4,
 "nbformat_minor": 5
}
