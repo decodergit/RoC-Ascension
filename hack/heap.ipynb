{
 "cells": [
  {
   "cell_type": "code",
   "execution_count": 13,
   "id": "0228f18f-4c95-49d0-9003-5bca925490a7",
   "metadata": {},
   "outputs": [],
   "source": [
    "import pickle\n",
    "mem = pickle.load(open('first.dump', 'rb'))"
   ]
  },
  {
   "cell_type": "code",
   "execution_count": 9,
   "id": "9a89e416-216e-4cb2-83a5-f846e17e0503",
   "metadata": {},
   "outputs": [
    {
     "data": {
      "text/plain": [
       "958"
      ]
     },
     "execution_count": 9,
     "metadata": {},
     "output_type": "execute_result"
    }
   ],
   "source": [
    "len(mem)"
   ]
  },
  {
   "cell_type": "code",
   "execution_count": 10,
   "id": "10be1454-dcab-426d-9f88-7fdb13eeca06",
   "metadata": {},
   "outputs": [
    {
     "name": "stdout",
     "output_type": "stream",
     "text": [
      "('0x7f2ea37da000', 12288)\n",
      "('0x7f2ea20dc000', 4096)\n",
      "('0x7f2e90931000', 114688)\n",
      "('0x7f2ea6471000', 4096)\n",
      "('0x7f2ea6de7000', 20480)\n",
      "('0x7f2ea6459000', 4096)\n",
      "('0x7f2e88047000', 66818048)\n",
      "('0x7f2ea5f34000', 45056)\n",
      "('0x7f2ea0b8a000', 4096)\n",
      "('0x7f2ea0bcd000', 8192)\n"
     ]
    }
   ],
   "source": [
    "index = 0\n",
    "for m in mem:\n",
    "    print(m)\n",
    "    index += 1\n",
    "    if index >= 10:\n",
    "        break"
   ]
  },
  {
   "cell_type": "code",
   "execution_count": 15,
   "id": "eac35173-16fc-470e-a8e5-8e6f04a73e1f",
   "metadata": {},
   "outputs": [
    {
     "name": "stdout",
     "output_type": "stream",
     "text": [
      "0\n"
     ]
    }
   ],
   "source": [
    "delta = pickle.load(open('delta.dump', 'rb'))\n",
    "print(len(delta))"
   ]
  }
 ],
 "metadata": {
  "kernelspec": {
   "display_name": "Python 3 (ipykernel)",
   "language": "python",
   "name": "python3"
  },
  "language_info": {
   "codemirror_mode": {
    "name": "ipython",
    "version": 3
   },
   "file_extension": ".py",
   "mimetype": "text/x-python",
   "name": "python",
   "nbconvert_exporter": "python",
   "pygments_lexer": "ipython3",
   "version": "3.10.4"
  }
 },
 "nbformat": 4,
 "nbformat_minor": 5
}
