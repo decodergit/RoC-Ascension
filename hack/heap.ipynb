{
 "cells": [
  {
   "cell_type": "code",
   "execution_count": 1,
   "id": "0228f18f-4c95-49d0-9003-5bca925490a7",
   "metadata": {},
   "outputs": [],
   "source": [
    "import pickle\n",
    "dump = pickle.load(open('mem_obj.dump', 'rb'))"
   ]
  },
  {
   "cell_type": "code",
   "execution_count": 2,
   "id": "9a89e416-216e-4cb2-83a5-f846e17e0503",
   "metadata": {},
   "outputs": [
    {
     "data": {
      "text/plain": [
       "689"
      ]
     },
     "execution_count": 2,
     "metadata": {},
     "output_type": "execute_result"
    }
   ],
   "source": [
    "len(dump)"
   ]
  },
  {
   "cell_type": "code",
   "execution_count": 28,
   "id": "10be1454-dcab-426d-9f88-7fdb13eeca06",
   "metadata": {
    "collapsed": true,
    "jupyter": {
     "outputs_hidden": true
    },
    "tags": []
   },
   "outputs": [
    {
     "name": "stdout",
     "output_type": "stream",
     "text": [
      "/dev/ashmem/shared_memory/D5A74A121842A47E7EAF68382AD3794C\n",
      "[1, 131072]\n",
      "--------------------------------------------------------------------------------\n",
      "/dev/ashmem/shared_memory/1D53F3F180B6B1A832373957D4805C13\n",
      "[1, 28672]\n",
      "--------------------------------------------------------------------------------\n",
      "anon_inode:dmabuf\n",
      "[3, 12288]\n",
      "--------------------------------------------------------------------------------\n",
      "[anon:linker_alloc_vector]\n",
      "[6, 28672]\n",
      "--------------------------------------------------------------------------------\n",
      "[anon:linker_alloc]\n",
      "[69, 323584]\n",
      "--------------------------------------------------------------------------------\n",
      "[anon:atexit\n",
      "[12, 53248]\n",
      "--------------------------------------------------------------------------------\n",
      "[anon:linker_alloc_small_objects]\n",
      "[14, 65536]\n",
      "--------------------------------------------------------------------------------\n",
      "/data/data/com.innogames.riseofcultures/no_backup/androidx.work.workdb-shm\n",
      "[1, 32768]\n",
      "--------------------------------------------------------------------------------\n",
      "/dev/ashmem/b390658b-3797-4724-bafe-266be4332e9d\n",
      "[3, 12288]\n",
      "--------------------------------------------------------------------------------\n",
      "/data/app/com.innogames.riseofcultures-S5yUxilJiwneicaZS2e40w==/oat/arm64/base.art\n",
      "[1, 12288]\n",
      "--------------------------------------------------------------------------------\n",
      "/dev/misysinfofreader\n",
      "[1, 4096]\n",
      "--------------------------------------------------------------------------------\n",
      "[anon:linker_alloc_lob]\n",
      "[1, 4096]\n",
      "--------------------------------------------------------------------------------\n",
      "/dev/event-log-tags\n",
      "[1, 4096]\n",
      "--------------------------------------------------------------------------------\n",
      "[anon:arc4random\n",
      "[2, 8192]\n",
      "--------------------------------------------------------------------------------\n",
      "[vvar]\n",
      "[1, 4096]\n",
      "--------------------------------------------------------------------------------\n",
      "[vdso]\n",
      "[1, 4096]\n",
      "--------------------------------------------------------------------------------\n",
      "[stack]\n",
      "[1, 8384512]\n",
      "--------------------------------------------------------------------------------\n",
      "9113600\n"
     ]
    }
   ],
   "source": [
    "sum_size = 0\n",
    "for obj, count_size in zip(dump.keys(), dump.values()):\n",
    "    if obj == '':\n",
    "        continue\n",
    "    wrong_words = {'dalvik', 'boot', 'font', 'Chrome', 'kgsl', 'system', 'lib', 'Audio', 'System', '.dat', '/dev/__properties__', 'dex', 'apk', 'web', 'config', 'cfi', 'binder', '.bss', 'thread', 'bionic'}\n",
    "    good = True\n",
    "    for word in wrong_words:\n",
    "        if word in obj:\n",
    "            good = False\n",
    "            break\n",
    "    if good:\n",
    "        print(obj)\n",
    "        print(count_size)\n",
    "        print('-' * 80)\n",
    "        sum_size += count_size[1]\n",
    "print(sum_size)"
   ]
  },
  {
   "cell_type": "code",
   "execution_count": 31,
   "id": "da2a7e3b-eecb-499d-8503-14738e42185f",
   "metadata": {},
   "outputs": [],
   "source": [
    "dumps = list()\n",
    "for i in range(11):\n",
    "    dumps.append(pickle.load(open(f'{i:03d}.dump', 'rb')))"
   ]
  },
  {
   "cell_type": "code",
   "execution_count": 35,
   "id": "302e2c70-0354-4471-a03b-b4d59818a869",
   "metadata": {},
   "outputs": [
    {
     "name": "stdout",
     "output_type": "stream",
     "text": [
      "114 записей сохраняется по всем дампам\n"
     ]
    }
   ],
   "source": [
    "exists_in_all_dumps = list()\n",
    "dump_0 = dumps[0]\n",
    "for key in dump_0.keys():\n",
    "    in_all = True\n",
    "    for dump in dumps[1:]:\n",
    "        if key not in dump:\n",
    "            in_all = False\n",
    "            break\n",
    "    if in_all:\n",
    "        exists_in_all_dumps.append(key)\n",
    "print(f'{len(exists_in_all_dumps)} записей сохраняется по всем дампам')"
   ]
  },
  {
   "cell_type": "code",
   "execution_count": 36,
   "id": "cfe4ce64-deff-4393-8ba3-b3d0efc9fe29",
   "metadata": {},
   "outputs": [
    {
     "name": "stdout",
     "output_type": "stream",
     "text": [
      "109 записей не меняют содержания по всем дампам\n"
     ]
    }
   ],
   "source": [
    "const_in_all_dumps = list()\n",
    "for key in exists_in_all_dumps:\n",
    "    in_all = True\n",
    "    for dump in dumps[1:]:\n",
    "        if dump_0[key] != dump[key]:\n",
    "            in_all = False\n",
    "            break\n",
    "    if in_all:\n",
    "        const_in_all_dumps.append(key)\n",
    "print(f'{len(const_in_all_dumps)} записей не меняют содержания по всем дампам')"
   ]
  },
  {
   "cell_type": "code",
   "execution_count": 37,
   "id": "b57aac52-8197-4d2a-ba89-edf5989a75d6",
   "metadata": {},
   "outputs": [
    {
     "name": "stdout",
     "output_type": "stream",
     "text": [
      "Следующие записи меняются от переговоров к переговорам:\n",
      "('0x7dcf1ea000', 4096, '/dev/ashmem/b390658b-3797-4724-bafe-266be4332e9d')\n",
      "('0x7e502e3000', 4096, '/dev/ashmem/b390658b-3797-4724-bafe-266be4332e9d')\n",
      "('0x7e5042c000', 4096, '/dev/ashmem/b390658b-3797-4724-bafe-266be4332e9d')\n",
      "('0x7e554d5000', 4096, '[vvar]')\n",
      "('0x7fce384000', 8384512, '[stack]')\n"
     ]
    }
   ],
   "source": [
    "diff_mem = list()\n",
    "for key in exists_in_all_dumps:\n",
    "    if key not in const_in_all_dumps:\n",
    "        diff_mem.append(key)\n",
    "print('Следующие записи меняются от переговоров к переговорам:')\n",
    "for key in diff_mem:\n",
    "    print(key)"
   ]
  },
  {
   "cell_type": "code",
   "execution_count": 38,
   "id": "36db05d0-9ac1-4eb0-98b4-1450e09c789d",
   "metadata": {},
   "outputs": [
    {
     "data": {
      "text/plain": [
       "'\\nРезонно, ведь /dev/ashmem это куча, а стэк не может не меняться.\\nХотя на куче меняются очень маленькие аллокации.\\nСтоит сначала исследовать стек.\\n'"
      ]
     },
     "execution_count": 38,
     "metadata": {},
     "output_type": "execute_result"
    }
   ],
   "source": [
    "'''\n",
    "Резонно, ведь /dev/ashmem это куча, а стэк не может не меняться.\n",
    "Хотя на куче меняются очень маленькие аллокации.\n",
    "Содержимое vvar принадлежит ядру и не может меняться пользовательским кодом.\n",
    "Стоит сначала исследовать стек.\n",
    "'''"
   ]
  }
 ],
 "metadata": {
  "kernelspec": {
   "display_name": "Python 3 (ipykernel)",
   "language": "python",
   "name": "python3"
  },
  "language_info": {
   "codemirror_mode": {
    "name": "ipython",
    "version": 3
   },
   "file_extension": ".py",
   "mimetype": "text/x-python",
   "name": "python",
   "nbconvert_exporter": "python",
   "pygments_lexer": "ipython3",
   "version": "3.10.4"
  }
 },
 "nbformat": 4,
 "nbformat_minor": 5
}
